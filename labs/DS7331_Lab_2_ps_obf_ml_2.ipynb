{
 "cells": [
  {
   "cell_type": "markdown",
   "id": "de0c0b4d",
   "metadata": {},
   "source": [
    "# Powershell Obfuscation Analysis using Classification ML Models\n",
    "\n",
    "This lab exercise is a continuation of the previous work we conducted in Lab 1 of our study in which our goal was to identify obfuscated data present in PowerShell script. Our ongoing objective is to identify malicious code, codifying our approach such that it can be used proactively in an enterprise setting, mitigating the risk of downtime, data leaks, and irrevocable damage to a brand's reputation."
   ]
  },
  {
   "cell_type": "markdown",
   "id": "4b435495",
   "metadata": {},
   "source": [
    "### Data Preparation Review\n",
    "\n",
    "To recap the work we completed in Lab 1, we started  with a corpus of 409876 PowerShell scripts collected in 2017 from GitHub, Technet, PowerShellGallery, and other sources.\n",
    "\n",
    "Scripts from the corpus were initially unlabled and represented as, good vs bad, or obfuscated vs clean.\n",
    "\n",
    "The scripts were individually processed to obtain the original features and analyzed for null values (there were none) leaving us originally with 10405 unique entries with 50 features. Through our initial exploratory data analysis, we whittled down our classes to a total of (2) establishing a binary classification problem, specifically represented as 'known obfuscated' versus 'NOT obfuscated.' \n",
    "\n",
    "Through additional transformations conducted, including converting the character features to percentage based values, adding a feature that had the total number of keywords instead of the number of each keyword, and then normalizing the values to create an even ratio we created our transformed dataset."
   ]
  },
  {
   "cell_type": "code",
   "execution_count": 44,
   "id": "1790fc89",
   "metadata": {},
   "outputs": [],
   "source": [
    "from ps_obf import PS_OBF # Custom class\n",
    "\n",
    "#Create object\n",
    "'''\n",
    "This custom class is used to create a standardization for the way we process data and create models.\n",
    "When the object is created a transformation will automatically happen that creates a\n",
    "new dataframe based on standard options, additional transformation will happen if\n",
    "set to true, and PCA models and dataframes will be created. It also has an internal split function\n",
    "for the data to split 80/20. \n",
    "'''\n",
    "my_var= PS_OBF('../dataset/all_with_keyword_sum.csv', transform= True)\n",
    "\n",
    "#to get the new df\n",
    "df = my_var.data\n",
    "#to get the PCA dataframe that we used in the mini-lab\n",
    "pca_df = my_var.pca_df\n",
    "#you can also get the PCA model if you want\n",
    "pca_model = my_var.pca_model"
   ]
  },
  {
   "cell_type": "code",
   "execution_count": 45,
   "id": "25a9dc13",
   "metadata": {},
   "outputs": [],
   "source": [
    "# Libraries\n",
    "import numpy as np\n",
    "import pandas as pd\n",
    "from sklearn import metrics as mt\n",
    "from sklearn import svm\n",
    "from sklearn.decomposition import PCA\n",
    "from sklearn.svm import SVC\n",
    "from sklearn.linear_model import LogisticRegression\n",
    "from sklearn.model_selection import train_test_split, GridSearchCV\n",
    "from sklearn.preprocessing import StandardScaler\n",
    "\n",
    "from matplotlib import pyplot as plt\n",
    "from matplotlib.colors import ListedColormap\n",
    "import warnings\n",
    "%matplotlib inline\n",
    "plt.style.use('ggplot')\n",
    "\n",
    "from matplotlib.colors import ListedColormap\n",
    "import matplotlib.pyplot as plt"
   ]
  },
  {
   "cell_type": "code",
   "execution_count": 46,
   "id": "2ab4f642",
   "metadata": {
    "scrolled": true
   },
   "outputs": [
    {
     "name": "stdout",
     "output_type": "stream",
     "text": [
      "is_obf                   int8\n",
      "char_hash_count       float64\n",
      "char_paren_count      float64\n",
      "char_brack_count      float64\n",
      "char_brace_count      float64\n",
      "char_bkslash_count    float64\n",
      "char_fwslash_count    float64\n",
      "char_dollar_count     float64\n",
      "char_squote_count     float64\n",
      "char_dquote_count     float64\n",
      "char_bktick_count     float64\n",
      "char_colon_count      float64\n",
      "char_scolon_count     float64\n",
      "char_star_count       float64\n",
      "char_minus_count      float64\n",
      "char_plus_count       float64\n",
      "char_percent_count    float64\n",
      "char_carrot_count     float64\n",
      "char_comma_count      float64\n",
      "char_period_count     float64\n",
      "char_glthan_count     float64\n",
      "char_num_count        float64\n",
      "char_ucase_count      float64\n",
      "char_lcase_count      float64\n",
      "char_eq_count         float64\n",
      "char_space_count      float64\n",
      "char_pipe_count       float64\n",
      "char_uscore_count     float64\n",
      "char_amp_count        float64\n",
      "char_excl_count       float64\n",
      "doc_keyword_totals    float64\n",
      "dtype: object\n",
      "(10405, 31)\n"
     ]
    }
   ],
   "source": [
    "print(df.dtypes)\n",
    "print(df.shape)"
   ]
  },
  {
   "cell_type": "markdown",
   "id": "769b089f",
   "metadata": {},
   "source": [
    "The transformed data set has a total of 10405 observations with 30 features."
   ]
  },
  {
   "cell_type": "code",
   "execution_count": 47,
   "id": "e5320053",
   "metadata": {
    "scrolled": true
   },
   "outputs": [
    {
     "name": "stdout",
     "output_type": "stream",
     "text": [
      "(10405, 2)\n"
     ]
    }
   ],
   "source": [
    "print(pca_df.shape)"
   ]
  },
  {
   "cell_type": "markdown",
   "id": "6b880edd",
   "metadata": {},
   "source": [
    "We also conducted a principal component analysis which includes a dataset of 10405 observations and 2 principal components we will compare in our modeling going forward."
   ]
  },
  {
   "cell_type": "code",
   "execution_count": 48,
   "id": "0c2b193d",
   "metadata": {},
   "outputs": [],
   "source": [
    "# Define common random seed value and sample test percentage size.\n",
    "# Uses the seed from the PS_OBF object\n",
    "seed_value = my_var.rd_seed"
   ]
  },
  {
   "cell_type": "markdown",
   "id": "961782a6",
   "metadata": {},
   "source": [
    "### Split data into 80/20 Train Test"
   ]
  },
  {
   "cell_type": "code",
   "execution_count": 49,
   "id": "61037f70",
   "metadata": {},
   "outputs": [],
   "source": [
    "# Split data using the built in method from our custom class\n",
    "# Returns python dictionary with these keys\n",
    "# train, test, train_features, test_features, train_labels, test_labels\n",
    "pca_split = my_var.split(my_var.pca_df)\n",
    "data_split = my_var.split(my_var.data)"
   ]
  },
  {
   "cell_type": "markdown",
   "id": "30b71e7a",
   "metadata": {},
   "source": [
    "## Logistic Regression Model"
   ]
  },
  {
   "cell_type": "code",
   "execution_count": 50,
   "id": "0531f99f",
   "metadata": {},
   "outputs": [],
   "source": [
    "# Function to generate logistic regression model\n",
    "def create_logistic_model(data, label, seed=None):\n",
    "    '''Function to create a logistic regression model. When ran it will display the accuracy and confusion matrix of the model.\n",
    "    @Params:\n",
    "    - dataframe (pandasDataframe) : Dataframe Object\n",
    "    - label (str) : name of the column that defines the label \n",
    "    - seed (optional) (int) : integer value for a seed\n",
    "    @Returns: fitted LogisticRegression()\n",
    "    '''\n",
    "    # Create logistic regression model\n",
    "    logreg_model = LogisticRegression(penalty='l2', C=1.0, class_weight=None, solver='liblinear', max_iter=150) \n",
    "    \n",
    "    # Data split\n",
    "    df_train, df_test = data['train'], data['test']\n",
    "    df_train_features, df_test_features = data['train_features'], data['test_features']\n",
    "    df_train_labels, df_test_labels = data['train_labels'], data['test_labels']\n",
    "\n",
    "    # Fit the model\n",
    "    logreg_model.fit(df_train_features, df_train_labels)\n",
    "    # Test out the model and create predictions \n",
    "    logreg_pred = logreg_model.predict(df_test_features)\n",
    "    # get accuracy \n",
    "    logreg_accuracy = mt.accuracy_score(df_test_labels, logreg_pred)\n",
    "    # Confusion Matrix \n",
    "    logreg_conf = mt.confusion_matrix(df_test_labels, logreg_pred)\n",
    "\n",
    "    # Display results \n",
    "    print(\"Accuracy: \", logreg_accuracy)\n",
    "    print(\"Confusion Matrix\\n\", logreg_conf)  \n",
    "\n",
    "    return(logreg_model)"
   ]
  },
  {
   "cell_type": "markdown",
   "id": "970259f7",
   "metadata": {},
   "source": [
    "Pertaining to hyperparameters or 'tuning' we executed, we incorporated the 'liblinear' solver and a penalty of '12'. Parameters can be especially useful in stochastic gradient descent exercises, and in this example, where our aim is to best classify and fit our model based on the features provided. SGD is highly efficient and easy to implement but potentially comes at the cost of feature scaling and number of iterations required to reach an optimal result.\n",
    "\n",
    "The penalty parameter is used to penalize a model when there is presence of too many variables as to reduce the weight of the coefficients that have less importance to our model- this is also known as 'regularization'. The 'liblinear' solver uses a Coordinate Descent algorithm to solve for large-scale regularized classification and regression problems- and of course, this is intended to work in parallel to the penalty parameter.\n",
    "\n",
    "Iterations were increased from the default 100 to 150 because of the size of the dataset. Any lower and the model would throw warnings. "
   ]
  },
  {
   "cell_type": "code",
   "execution_count": 51,
   "id": "fef53619",
   "metadata": {
    "scrolled": false
   },
   "outputs": [
    {
     "name": "stdout",
     "output_type": "stream",
     "text": [
      "Transformed Model and Results\n",
      "Accuracy:  0.9601153291686689\n",
      "Confusion Matrix\n",
      " [[ 612   28]\n",
      " [  55 1386]]\n",
      "\n",
      "\n",
      "PCA Model and Results\n",
      "Accuracy:  0.9452186448822681\n",
      "Confusion Matrix\n",
      " [[ 639    1]\n",
      " [ 113 1328]]\n"
     ]
    }
   ],
   "source": [
    "print('Transformed Model and Results')\n",
    "tf_data_logreg_model = create_logistic_model(data_split, 'is_obf', seed_value)\n",
    "\n",
    "print('\\n')\n",
    "\n",
    "print('PCA Model and Results')\n",
    "pca_logreg_model = create_logistic_model(pca_split, 'is_obf', seed_value)"
   ]
  },
  {
   "cell_type": "markdown",
   "id": "ec4e7a20",
   "metadata": {},
   "source": [
    "Above are the results of running logistic regression models on our two different data sets. The data sets loaded included the transformed data set, which includes 10405 observations and 49 features, and finally, the PCA data set, which includes 10406 observations, 2 Principal Components and a column represented as 'is_obf' levels.\n",
    "\n",
    "We run logistic regression given this study is based on a binary response, meaning, based on the observations within the inputted features of each data set, can we classify a record (a PowerShell script) to either be known obfuscated or NOT obfuscated?\n",
    "\n",
    "The confusion matrices, also known as error matrices, which assess the performance of classifying the variables under logistic regression have roughly similar results. \n",
    "\n",
    "### Need to add further comments on observations above"
   ]
  },
  {
   "cell_type": "code",
   "execution_count": 52,
   "id": "c0a7efaf",
   "metadata": {},
   "outputs": [],
   "source": [
    "def get_logreg_weights(dataframe, log_model, label_name, title=None, v=False):\n",
    "    '''Prints the weights of each feature in the model and displays a graphic. Returns nothing. \n",
    "    @Params:\n",
    "    - dataframe (PandasDataframe) : Dataframe used when creating the model\n",
    "    - log_model (LogisticRegression) : Model returned from the create_logistic_model() function\n",
    "    - label_name (string) : name of the lable column used to created the model\n",
    "    - title (string) : Title of the bar graph\n",
    "    - v (bool) : If true, prints the weights. If False, only prints chart\n",
    "    '''\n",
    "    # Create dataframe to send to bar grpah \n",
    "    logreg_tmp_df = dataframe[dataframe.columns[dataframe.columns != label_name]]\n",
    "    logreg_wghts = pd.DataFrame(log_model.coef_[0], columns=['value'], index=logreg_tmp_df.columns)\n",
    "\n",
    "    # display those that have a weight greater than .001\n",
    "    logreg_wghts = logreg_wghts.loc[(logreg_wghts[\"value\"] >= .001) | (logreg_wghts[\"value\"] <= -.001)]\n",
    "\n",
    "    # Plot / Display\n",
    "    if title == None: \n",
    "        logreg_wghts.plot(kind='bar', title='Feature Weights')\n",
    "    else:\n",
    "        logreg_wghts.plot(kind='bar', title=title)\n",
    "        \n",
    "    plt.show()\n",
    "\n",
    "    if v == True:\n",
    "        # Display text Versions \n",
    "        # Get the weights for each variable \n",
    "        logreg_vars = zip(log_model.coef_.T, logreg_tmp_df)\n",
    "        logreg_vars = sorted(logreg_vars)\n",
    "        # Display Weights \n",
    "        print('\\nFeature Weights\\n---------------------')\n",
    "        for coef, name in logreg_vars:\n",
    "            print(name, 'weight: ', coef[0])"
   ]
  },
  {
   "cell_type": "code",
   "execution_count": 53,
   "id": "757832a9",
   "metadata": {
    "scrolled": true
   },
   "outputs": [
    {
     "data": {
      "image/png": "[encoded data removed]",
      "text/plain": [
       "<Figure size 640x480 with 1 Axes>"
      ]
     },
     "metadata": {},
     "output_type": "display_data"
    }
   ],
   "source": [
    "# Display Weights for Transformed Data\n",
    "get_logreg_weights(df, tf_data_logreg_model, 'is_obf', title='Transformed Feature Weights', v=False)"
   ]
  },
  {
   "cell_type": "code",
   "execution_count": 54,
   "id": "e766deeb",
   "metadata": {
    "scrolled": true
   },
   "outputs": [
    {
     "data": {
      "image/png": "[encoded data removed]",
      "text/plain": [
       "<Figure size 640x480 with 1 Axes>"
      ]
     },
     "metadata": {},
     "output_type": "display_data"
    }
   ],
   "source": [
    "# Display Weights for PCA Data\n",
    "get_logreg_weights(my_var.pca_with_label_df, pca_logreg_model, 'is_obf', title='PCA Feature Weights', v=False)"
   ]
  },
  {
   "cell_type": "markdown",
   "id": "7e1dfa35",
   "metadata": {},
   "source": [
    "In the above section, we display asssociated with the logistic regression models we derived from our data sets. It's important to first delineate how logistic regression lends to classification over linear regression, for example. Linear regression fits a straight line or hyperplane, whereas logistic regression models use logistic functions to fit according to the output of a linear equation between a binary, '0' and '1'. A weight can be interpreted as a change in a value by one unit to increase the log odds ratio by the value of a corresponding weight.\n",
    "\n",
    "In the raw data feature weights plot, you can see one of the strongest features appears to be 'char_bktick_count'. Similarly, in the Transformed Feature Weights plot, 'char_bktick_count' again has statistical significance in addition to the aggregate column we added, 'doc_keyword_sum'. The latter finding corroborates what we observed in our exploratory data analysis. Finally, looking at the Delta PCA Feature Weights plot we can see PC1 has the most significance- recall from our EDA this signifies the features, 'doc_avg_line_len' and doc_line_count', have the most weight pertaining to our study and classification of known obfuscated versus NOT obfuscated.\n",
    "\n",
    "In summary, the 'doc_keyword_sum' feature from the transformed feature weights plot and 'doc_avg_line_len' and doc_line_count' from the PCA Delta Data set align with our exploratory analysis, whereas 'char_bktick_count' from the raw data feature weights plot presents an interesting and new result worth investigating further.\n",
    "\n",
    "### review and rework based on decision to exclude raw data"
   ]
  },
  {
   "cell_type": "markdown",
   "id": "f30304af",
   "metadata": {},
   "source": [
    "## Naive Bayes Classification\n"
   ]
  },
  {
   "cell_type": "code",
   "execution_count": 57,
   "id": "4b7f889c",
   "metadata": {},
   "outputs": [
    {
     "name": "stdout",
     "output_type": "stream",
     "text": [
      "Transformed Model and Results\n",
      "Top model is: MultinomialNB(alpha=0.5)  with accuracy of: 0.8913983661701105\n",
      "Confusion Matrix: \n",
      " [[ 568   72]\n",
      " [ 154 1287]]\n",
      "\n",
      "\n",
      "PCA Model and Results\n",
      "Top model is: GaussianNB()  with accuracy of: 0.9437770302739068\n",
      "Confusion Matrix: \n",
      " [[ 640    0]\n",
      " [ 117 1324]]\n"
     ]
    }
   ],
   "source": [
    "from sklearn.naive_bayes import MultinomialNB\n",
    "from sklearn.naive_bayes import BernoulliNB\n",
    "from sklearn.naive_bayes import GaussianNB\n",
    "from sklearn.metrics import accuracy_score\n",
    "from sklearn.preprocessing import MinMaxScaler\n",
    "import warnings\n",
    "warnings.filterwarnings(\"ignore\")\n",
    "\n",
    "def create_nb_model(data, label, do_pca=False):\n",
    "    clf_mnb = MultinomialNB(alpha=1.0)\n",
    "    clf_bnb = BernoulliNB(alpha=1.0, binarize=0.0)\n",
    "\n",
    "    # Data split\n",
    "    y_train, y_test = data['train'], data['test']\n",
    "    X_train, X_test = data['train_features'], data['test_features']\n",
    "    df_train_labels, df_test_labels = data['train_labels'], data['test_labels']\n",
    "    if do_pca:\n",
    "        scaler = MinMaxScaler()\n",
    "        X_train = scaler.fit_transform(X_train)\n",
    "        X_test = scaler.transform(X_test)\n",
    " \n",
    "    # Create a list of alpha values from 0 to 1\n",
    "    alpha_list = np.arange(0, 1, .1).tolist()\n",
    "    bin_list = np.arange(0, 1, .1).tolist()\n",
    "\n",
    "    #multinominal top acc and alpha\n",
    "    mnb_top_acc = 0\n",
    "    mnb_top_acc_alpha = None\n",
    "\n",
    "    #bernuilli top acc alpha and bin\n",
    "    bnb_top_acc = 0\n",
    "    bnb_top_acc_alpha = None\n",
    "    bnb_top_acc_bin = None\n",
    "\n",
    "    # gaussian accuracy\n",
    "    gnb_top_acc = 0\n",
    "\n",
    "    gnb_top_model = None\n",
    "    mnb_top_model = None\n",
    "    bnb_top_model = None\n",
    "    top_model = None\n",
    "    top_acc = None\n",
    "\n",
    "    # gaussian\n",
    "    clf_gnb_new = GaussianNB()\n",
    "    clf_gnb_new.fit(X_train, y_train.is_obf)\n",
    "    clf_gnb_new_y_hat = clf_gnb_new.predict(X_test)\n",
    "    gnb_top_acc = accuracy_score(clf_gnb_new_y_hat, y_test.is_obf)\n",
    "    gnb_top_model = clf_gnb_new\n",
    "\n",
    "    # multinominal and Bernoulli with hyperparameter tuning of alpha and bin\n",
    "    for a in range(len(alpha_list)):\n",
    "        # MNB\n",
    "        clf_mnb_new = MultinomialNB(alpha=alpha_list[a])\n",
    "        clf_mnb_new.fit(X_train, y_train.is_obf)\n",
    "        clf_mnb_new_y_hat = clf_mnb_new.predict(X_test)\n",
    "        clf_mnb_new_acc = accuracy_score(clf_mnb_new_y_hat, y_test.is_obf)\n",
    "        \n",
    "        if clf_mnb_new_acc > mnb_top_acc:\n",
    "            mnb_top_acc = clf_mnb_new_acc\n",
    "            mnb_top_acc_alpha = alpha_list[a]\n",
    "            # get top multinominal nb model by accuracy\n",
    "            mnb_top_model = clf_mnb_new\n",
    "\n",
    "        # BNB\n",
    "        for b in range(len(bin_list)):\n",
    "            clf_bnb_new = BernoulliNB(alpha=alpha_list[a], binarize=bin_list[b])\n",
    "            clf_bnb_new.fit(X_train, y_train.is_obf)\n",
    "            clf_bnb_new_y_hat = clf_bnb_new.predict(X_test)\n",
    "            clf_bnb_new_acc = accuracy_score(clf_bnb_new_y_hat, y_test.is_obf)\n",
    "\n",
    "            if clf_bnb_new_acc > bnb_top_acc:\n",
    "                bnb_top_acc = clf_bnb_new_acc\n",
    "                bnb_top_acc_alpha = alpha_list[a]\n",
    "                bnb_top_acc_bin = bin_list[b]\n",
    "                # get the top bernuilli nb model by accuracy\n",
    "                bnb_top_model = clf_bnb_new\n",
    "\n",
    "    # get the top model, accuracy, and confusion matrix\n",
    "    top_model = mnb_top_model if mnb_top_acc > bnb_top_acc else bnb_top_model\n",
    "    top_acc = mnb_top_acc if mnb_top_acc > bnb_top_acc else bnb_top_acc\n",
    "    top_model = top_model if top_acc > gnb_top_acc else gnb_top_model\n",
    "    top_acc = top_acc if top_acc > gnb_top_acc else gnb_top_acc\n",
    "\n",
    "    print('Top model is:', top_model, ' with accuracy of:', top_acc)\n",
    "    y_pred = top_model.predict(X_test)\n",
    "    conf_mat = mt.confusion_matrix(data['test_labels'], y_pred)\n",
    "    print('Confusion Matrix: \\n', conf_mat)\n",
    "    # return the top model \n",
    "    return top_model\n",
    "\n",
    "print('Transformed Model and Results')\n",
    "tf_data_nb_model = create_nb_model(data_split, 'is_obf')\n",
    "\n",
    "print('\\n')\n",
    "\n",
    "print('PCA Model and Results')\n",
    "pca_nb_model = create_nb_model(pca_split, 'is_obf', True)"
   ]
  }
 ],
 "metadata": {
  "kernelspec": {
   "display_name": "Python 3.8.2 ('.venv': venv)",
   "language": "python",
   "name": "python3"
  },
  "language_info": {
   "codemirror_mode": {
    "name": "ipython",
    "version": 3
   },
   "file_extension": ".py",
   "mimetype": "text/x-python",
   "name": "python",
   "nbconvert_exporter": "python",
   "pygments_lexer": "ipython3",
   "version": "3.8.2"
  },
  "vscode": {
   "interpreter": {
    "hash": "044be36d561837db4cca478848e4fb2d2ece9bde8e5960d88b052ad890d04b2f"
   }
  }
 },
 "nbformat": 4,
 "nbformat_minor": 5
}
