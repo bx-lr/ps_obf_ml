{
 "cells": [
  {
   "cell_type": "markdown",
   "id": "de0c0b4d",
   "metadata": {},
   "source": [
    "# Powershell Obfuscation Analysis using Classification ML Models\n",
    "\n",
    "This lab exercise is a continuation of the previous work we conducted in Lab 1 of our study in which our goal was to identify obfuscated data present in PowerShell script. Our ongoing objective is to identify malicious code, codifying our approach such that it can be used proactively in an enterprise setting, mitigating the risk of downtime, data leaks, and irrevocable damage to a brand's reputation."
   ]
  },
  {
   "cell_type": "markdown",
   "id": "4b435495",
   "metadata": {},
   "source": [
    "### Data Preparation Review\n",
    "\n",
    "To recap the work we completed in Lab 1, we started  with a corpus of 409876 PowerShell scripts collected in 2017 from GitHub, Technet, PowerShellGallery, and other sources.\n",
    "\n",
    "Scripts from the corpus were initially unlabled and represented as, good vs bad, or obfuscated vs clean.\n",
    "\n",
    "The scripts were individually processed to obtain the original features and analyzed for null values (there were none) leaving us originally with 10405 unique entries with 50 features. Through our initial exploratory data analysis, we whittled down our classes to a total of (2) establishing a binary classification problem, specifically represented as 'known obfuscated' versus 'NOT obfuscated.' \n",
    "\n",
    "Through additional transformations conducted, including converting the character features to percentage based values, adding a feature that had the total number of keywords instead of the number of each keyword, and then normalizing the values to create an even ratio we created our transformed dataset."
   ]
  },
  {
   "cell_type": "code",
   "execution_count": 1,
   "id": "1790fc89",
   "metadata": {},
   "outputs": [],
   "source": [
    "from ps_obf import PS_OBF # Custom class\n",
    "\n",
    "#Create object\n",
    "'''\n",
    "This custom class is used to create a standardization for the way we process data and create models.\n",
    "When the object is created a transformation will automatically happen that creates a\n",
    "new dataframe based on standard options, additional transformation will happen if\n",
    "set to true, and PCA models and dataframes will be created. It also has an internal split function\n",
    "for the data to split 80/20. \n",
    "'''\n",
    "my_var= PS_OBF('../dataset/all_with_keyword_sum.csv', transform= True)\n",
    "\n",
    "#to get the new df\n",
    "df = my_var.data\n",
    "#to get the PCA dataframe that we used in the mini-lab\n",
    "pca_df = my_var.pca_df\n",
    "#you can also get the PCA model if you want\n",
    "pca_model = my_var.pca_model"
   ]
  },
  {
   "cell_type": "code",
   "execution_count": 2,
   "id": "25a9dc13",
   "metadata": {},
   "outputs": [],
   "source": [
    "# Libraries\n",
    "import numpy as np\n",
    "import pandas as pd\n",
    "from sklearn import metrics as mt\n",
    "from sklearn import svm\n",
    "from sklearn.decomposition import PCA\n",
    "from sklearn.svm import SVC\n",
    "from sklearn.linear_model import LogisticRegression\n",
    "from sklearn.model_selection import train_test_split, GridSearchCV\n",
    "from sklearn.preprocessing import StandardScaler\n",
    "\n",
    "from matplotlib import pyplot as plt\n",
    "from matplotlib.colors import ListedColormap\n",
    "import warnings\n",
    "%matplotlib inline\n",
    "plt.style.use('ggplot')\n",
    "\n",
    "from matplotlib.colors import ListedColormap\n",
    "import matplotlib.pyplot as plt"
   ]
  },
  {
   "cell_type": "code",
   "execution_count": 13,
   "id": "2ab4f642",
   "metadata": {
    "scrolled": true
   },
   "outputs": [
    {
     "name": "stdout",
     "output_type": "stream",
     "text": [
      "is_obf                   int8\n",
      "char_hash_count         int64\n",
      "char_paren_count        int64\n",
      "char_brack_count        int64\n",
      "char_brace_count        int64\n",
      "char_bkslash_count      int64\n",
      "char_fwslash_count      int64\n",
      "char_dollar_count       int64\n",
      "char_squote_count       int64\n",
      "char_dquote_count       int64\n",
      "char_bktick_count       int64\n",
      "char_colon_count        int64\n",
      "char_scolon_count       int64\n",
      "char_star_count         int64\n",
      "char_minus_count        int64\n",
      "char_plus_count         int64\n",
      "char_percent_count      int64\n",
      "char_carrot_count       int64\n",
      "char_comma_count        int64\n",
      "char_period_count       int64\n",
      "char_glthan_count       int64\n",
      "char_num_count          int64\n",
      "char_ucase_count        int64\n",
      "char_lcase_count        int64\n",
      "char_eq_count           int64\n",
      "char_space_count        int64\n",
      "char_pipe_count         int64\n",
      "char_uscore_count       int64\n",
      "char_amp_count          int64\n",
      "char_excl_count         int64\n",
      "doc_keyword_totals    float64\n",
      "dtype: object\n",
      "(10405, 31)\n"
     ]
    }
   ],
   "source": [
    "print(df.dtypes)\n",
    "print(df.shape)"
   ]
  },
  {
   "cell_type": "markdown",
   "id": "769b089f",
   "metadata": {},
   "source": [
    "The transformed data set has a total of 10405 observations with 30 features."
   ]
  },
  {
   "cell_type": "code",
   "execution_count": 19,
   "id": "e5320053",
   "metadata": {
    "scrolled": true
   },
   "outputs": [
    {
     "name": "stdout",
     "output_type": "stream",
     "text": [
      "(10405, 2)\n"
     ]
    }
   ],
   "source": [
    "print(pca_df.shape)"
   ]
  },
  {
   "cell_type": "markdown",
   "id": "6b880edd",
   "metadata": {},
   "source": [
    "We also conducted a principal component analysis which includes a dataset of 10405 observations and 2 principal components we will compare in our modeling going forward."
   ]
  },
  {
   "cell_type": "code",
   "execution_count": 5,
   "id": "0c2b193d",
   "metadata": {},
   "outputs": [],
   "source": [
    "# Define common random seed value and sample test percentage size.\n",
    "# Uses the seed from the PS_OBF object\n",
    "seed_value = my_var.rd_seed"
   ]
  },
  {
   "cell_type": "markdown",
   "id": "961782a6",
   "metadata": {},
   "source": [
    "### Split data into 80/20 Train Test"
   ]
  },
  {
   "cell_type": "code",
   "execution_count": 6,
   "id": "61037f70",
   "metadata": {},
   "outputs": [],
   "source": [
    "# Split data using the built in method from our custom class\n",
    "# Returns python dictionary with these keys\n",
    "# train, test, train_features, test_features, train_labels, test_labels\n",
    "pca_split = my_var.split(my_var.pca_df)\n",
    "data_split = my_var.split(my_var.data)"
   ]
  },
  {
   "cell_type": "markdown",
   "id": "30b71e7a",
   "metadata": {},
   "source": [
    "## Logistic Regression Model"
   ]
  },
  {
   "cell_type": "code",
   "execution_count": 7,
   "id": "0531f99f",
   "metadata": {},
   "outputs": [],
   "source": [
    "# Function to generate logistic regression model\n",
    "def  create_logistic_model(data, label, seed=None):\n",
    "    '''Function to create a logistic regression model. When ran it will display the accuracy and confusion matrix of the model.\n",
    "    @Params:\n",
    "    - dataframe (pandasDataframe) : Dataframe Object\n",
    "    - label (str) : name of the column that defines the label \n",
    "    - seed (optional) (int) : integer value for a seed\n",
    "    @Returns: fitted LogisticRegression()\n",
    "    '''\n",
    "    # Create logistic regression model\n",
    "    logreg_model = LogisticRegression(penalty='l2', C=1.0, class_weight=None, solver='liblinear', max_iter=150) \n",
    "    \n",
    "    # Data split\n",
    "    df_train, df_test = data['train'], data['test']\n",
    "    df_train_features, df_test_features = data['train_features'], data['test_features']\n",
    "    df_train_labels, df_test_labels = data['train_labels'], data['test_labels']\n",
    "\n",
    "    # Fit the model\n",
    "    logreg_model.fit(df_train_features, df_train_labels)\n",
    "    # Test out the model and create predictions \n",
    "    logreg_pred = logreg_model.predict(df_test_features)\n",
    "    # get accuracy \n",
    "    logreg_accuracy = mt.accuracy_score(df_test_labels, logreg_pred)\n",
    "    # Confusion Matrix \n",
    "    logreg_conf = mt.confusion_matrix(df_test_labels, logreg_pred)\n",
    "\n",
    "    # Display results \n",
    "    print(\"Accuracy: \", logreg_accuracy)\n",
    "    print(\"Confusion Matrix\\n\", logreg_conf)  \n",
    "\n",
    "    return(logreg_model)"
   ]
  },
  {
   "cell_type": "markdown",
   "id": "970259f7",
   "metadata": {},
   "source": [
    "Pertaining to hyperparameters or 'tuning' we executed, we incorporated the 'liblinear' solver and a penalty of '12'. Parameters can be especially useful in stochastic gradient descent exercises, and in this example, where our aim is to best classify and fit our model based on the features provided. SGD is highly efficient and easy to implement but potentially comes at the cost of feature scaling and number of iterations required to reach an optimal result.\n",
    "\n",
    "The penalty parameter is used to penalize a model when there is presence of too many variables as to reduce the weight of the coefficients that have less importance to our model- this is also known as 'regularization'. The 'liblinear' solver uses a Coordinate Descent algorithm to solve for large-scale regularized classification and regression problems- and of course, this is intended to work in parallel to the penalty parameter.\n",
    "\n",
    "Iterations were increased from the default 100 to 150 because of the size of the dataset. Any lower and the model would throw warnings. "
   ]
  },
  {
   "cell_type": "code",
   "execution_count": 8,
   "id": "fef53619",
   "metadata": {
    "scrolled": false
   },
   "outputs": [
    {
     "name": "stdout",
     "output_type": "stream",
     "text": [
      "Transformed Model and Results\n",
      "Accuracy:  0.9466602594906295\n",
      "Confusion Matrix\n",
      " [[ 630   10]\n",
      " [ 101 1340]]\n",
      "\n",
      "\n",
      "PCA Model and Results\n",
      "Accuracy:  0.9452186448822681\n",
      "Confusion Matrix\n",
      " [[ 639    1]\n",
      " [ 113 1328]]\n"
     ]
    }
   ],
   "source": [
    "print('Transformed Model and Results')\n",
    "tf_data_logreg_model = create_logistic_model(data_split, 'is_obf', seed_value)\n",
    "\n",
    "print('\\n')\n",
    "\n",
    "print('PCA Model and Results')\n",
    "pca_logreg_model = create_logistic_model(pca_split, 'is_obf', seed_value)"
   ]
  },
  {
   "cell_type": "markdown",
   "id": "ec4e7a20",
   "metadata": {},
   "source": [
    "Above are the results of running logistic regression models on our two different data sets. The data sets loaded included the transformed data set, which includes 10405 observations and 49 features, and finally, the PCA data set, which includes 10406 observations, 2 Principal Components and a column represented as 'is_obf' levels.\n",
    "\n",
    "We run logistic regression given this study is based on a binary response, meaning, based on the observations within the inputted features of each data set, can we classify a record (a PowerShell script) to either be known obfuscated or NOT obfuscated?\n",
    "\n",
    "The confusion matrices, also known as error matrices, which assess the performance of classifying the variables under logistic regression have roughly similar results. \n",
    "\n",
    "### Need to add further comments on observations above"
   ]
  },
  {
   "cell_type": "code",
   "execution_count": 9,
   "id": "c0a7efaf",
   "metadata": {},
   "outputs": [],
   "source": [
    "def get_logreg_weights(dataframe, log_model, label_name, title=None, v=False):\n",
    "    '''Prints the weights of each feature in the model and displays a graphic. Returns nothing. \n",
    "    @Params:\n",
    "    - dataframe (PandasDataframe) : Dataframe used when creating the model\n",
    "    - log_model (LogisticRegression) : Model returned from the create_logistic_model() function\n",
    "    - label_name (string) : name of the lable column used to created the model\n",
    "    - title (string) : Title of the bar graph\n",
    "    - v (bool) : If true, prints the weights. If False, only prints chart\n",
    "    '''\n",
    "    # Create dataframe to send to bar grpah \n",
    "    logreg_tmp_df = dataframe[dataframe.columns[dataframe.columns != label_name]]\n",
    "    logreg_wghts = pd.DataFrame(log_model.coef_[0], columns=['value'], index=logreg_tmp_df.columns)\n",
    "\n",
    "    # display those that have a weight greater than .001\n",
    "    logreg_wghts = logreg_wghts.loc[(logreg_wghts[\"value\"] >= .001) | (logreg_wghts[\"value\"] <= -.001)]\n",
    "\n",
    "    # Plot / Display\n",
    "    if title == None: \n",
    "        logreg_wghts.plot(kind='bar', title='Feature Weights')\n",
    "    else:\n",
    "        logreg_wghts.plot(kind='bar', title=title)\n",
    "        \n",
    "    plt.show()\n",
    "\n",
    "    if v == True:\n",
    "        # Display text Versions \n",
    "        # Get the weights for each variable \n",
    "        logreg_vars = zip(log_model.coef_.T, logreg_tmp_df)\n",
    "        logreg_vars = sorted(logreg_vars)\n",
    "        # Display Weights \n",
    "        print('\\nFeature Weights\\n---------------------')\n",
    "        for coef, name in logreg_vars:\n",
    "            print(name, 'weight: ', coef[0])"
   ]
  },
  {
   "cell_type": "code",
   "execution_count": 10,
   "id": "757832a9",
   "metadata": {
    "scrolled": true
   },
   "outputs": [
    {
     "data": {
      "image/png": "[encoded data removed]",
      "text/plain": [
       "<Figure size 432x288 with 1 Axes>"
      ]
     },
     "metadata": {},
     "output_type": "display_data"
    }
   ],
   "source": [
    "# Display Weights for Transformed Data\n",
    "get_logreg_weights(df, tf_data_logreg_model, 'is_obf', title='Transformed Feature Weights', v=False)"
   ]
  },
  {
   "cell_type": "code",
   "execution_count": 11,
   "id": "e766deeb",
   "metadata": {
    "scrolled": true
   },
   "outputs": [
    {
     "data": {
      "image/png": "[encoded data removed]",
      "text/plain": [
       "<Figure size 432x288 with 1 Axes>"
      ]
     },
     "metadata": {},
     "output_type": "display_data"
    }
   ],
   "source": [
    "# Display Weights for PCA Data\n",
    "get_logreg_weights(my_var.pca_with_label_df, pca_logreg_model, 'is_obf', title='PCA Feature Weights', v=False)"
   ]
  },
  {
   "cell_type": "markdown",
   "id": "7e1dfa35",
   "metadata": {},
   "source": [
    "In the above section, we display asssociated with the logistic regression models we derived from our data sets. It's important to first delineate how logistic regression lends to classification over linear regression, for example. Linear regression fits a straight line or hyperplane, whereas logistic regression models use logistic functions to fit according to the output of a linear equation between a binary, '0' and '1'. A weight can be interpreted as a change in a value by one unit to increase the log odds ratio by the value of a corresponding weight.\n",
    "\n",
    "In the raw data feature weights plot, you can see one of the strongest features appears to be 'char_bktick_count'. Similarly, in the Transformed Feature Weights plot, 'char_bktick_count' again has statistical significance in addition to the aggregate column we added, 'doc_keyword_sum'. The latter finding corroborates what we observed in our exploratory data analysis. Finally, looking at the Delta PCA Feature Weights plot we can see PC1 has the most significance- recall from our EDA this signifies the features, 'doc_avg_line_len' and doc_line_count', have the most weight pertaining to our study and classification of known obfuscated versus NOT obfuscated.\n",
    "\n",
    "In summary, the 'doc_keyword_sum' feature from the transformed feature weights plot and 'doc_avg_line_len' and doc_line_count' from the PCA Delta Data set align with our exploratory analysis, whereas 'char_bktick_count' from the raw data feature weights plot presents an interesting and new result worth investigating further.\n",
    "\n",
    "### review and rework based on decision to exclude raw data"
   ]
  }
 ],
 "metadata": {
  "kernelspec": {
   "display_name": "Python 3.8.8 ('base')",
   "language": "python",
   "name": "python3"
  },
  "language_info": {
   "codemirror_mode": {
    "name": "ipython",
    "version": 3
   },
   "file_extension": ".py",
   "mimetype": "text/x-python",
   "name": "python",
   "nbconvert_exporter": "python",
   "pygments_lexer": "ipython3",
   "version": "3.8.8"
  },
  "vscode": {
   "interpreter": {
    "hash": "54e4ca73c973e83116ef4403fa90e5e0eb9a1baa071a9915e8813c04d4d9238c"
   }
  }
 },
 "nbformat": 4,
 "nbformat_minor": 5
}
