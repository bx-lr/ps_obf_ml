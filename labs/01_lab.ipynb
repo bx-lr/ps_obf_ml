{
 "cells": [
  {
   "cell_type": "markdown",
   "metadata": {},
   "source": [
    "# Project Requirements\n",
    "You are to perform analysis of a data set: exploring the statistical summaries of the features, \n",
    "visualizing the attributes, and making conclusions from the visualizations and analysis. Follow the \n",
    "CRISP-DM framework in your analysis (you are not performing all of the CRISP-DM outline, only \n",
    "the portions relevant to understanding and visualization). This report is worth 20% of the final \n",
    "grade. Please upload a report (one per team) with all code used, visualizations, and text in a single \n",
    "document. The format of the document can be PDF, *.ipynb, or HTML. You can write the report in \n",
    "whatever format you like, but it is easiest to turn in the rendered iPython notebook. "
   ]
  },
  {
   "cell_type": "markdown",
   "metadata": {},
   "source": [
    "# Grading Criteria\n",
    "- Business Understanding (10 points total).\n",
    "    - Describe the purpose of the data set you selected (i.e., why was this data collected in the first place?). Describe how you would define and measure  he outcomes from the dataset. That is, why is this data important and how do you know if you have mined useful knowledge from the dataset? How  ould you measure the effectiveness of a good prediction algorithm? Be specific.\n",
    "- Data Understanding (80 points total)\n",
    "    - [10 points] Describe the meaning and type of data (scale, values, etc.) for each attribute in the data file.\n",
    "    - [15 points] Verify data quality: Explain any missing values, duplicate data, and outliers. Are those mistakes? How do you deal with these problems? Be specific. \n",
    "    - [10 points] Give simple, appropriate statistics (range, mode, mean, median, variance, counts, etc.) for the most important attributes and describe  that they mean or if you found something interesting. Note: You can also use data from other sources for comparison. Explain the significance of the statistics run and why they are meaningful.\n",
    "    - [15 points] Visualize the most important attributes appropriately (at least 5 attributes). Important: Provide an interpretation for each chart.  Explain for each attribute why the chosen visualization is appropriate.\n",
    "    - [15 points] Explore relationships between attributes: Look at the attributes via scatter plots, correlation, cross-tabulation, group-wise averages, etc. as appropriate. Explain any interesting relationships.\n",
    "    - [10 points] Identify and explain interesting relationships between features and the class you are trying to predict (i.e., relationships with variables and the target classification). \n",
    "    - [5 points] Are there other features that could be added to the data or created from existing features? Which ones?\n",
    "- Exceptional Work (10 points total)\n",
    "    - You have free reign to provide additional analyses.\n",
    "    - One idea: implement dimensionality reduction, then visualize and interpret the results.\n"
   ]
  },
  {
   "cell_type": "markdown",
   "metadata": {},
   "source": [
    "# Data inspection"
   ]
  },
  {
   "cell_type": "code",
   "execution_count": 6,
   "metadata": {},
   "outputs": [
    {
     "name": "stdout",
     "output_type": "stream",
     "text": [
      "Collecting sklearn\n",
      "  Downloading sklearn-0.0.tar.gz (1.1 kB)\n",
      "  Preparing metadata (setup.py): started\n",
      "  Preparing metadata (setup.py): finished with status 'done'\n",
      "Collecting scikit-learn\n",
      "  Downloading scikit_learn-1.1.2-cp39-cp39-win_amd64.whl (7.4 MB)\n",
      "     ---------------------------------------- 7.4/7.4 MB 11.8 MB/s eta 0:00:00\n",
      "Requirement already satisfied: numpy>=1.17.3 in c:\\users\\research_laptop\\appdata\\local\\packages\\pythonsoftwarefoundation.python.3.9_qbz5n2kfra8p0\\localcache\\local-packages\\python39\\site-packages (from scikit-learn->sklearn) (1.23.1)\n",
      "Collecting threadpoolctl>=2.0.0\n",
      "  Downloading threadpoolctl-3.1.0-py3-none-any.whl (14 kB)\n",
      "Collecting joblib>=1.0.0\n",
      "  Downloading joblib-1.1.0-py2.py3-none-any.whl (306 kB)\n",
      "     -------------------------------------- 307.0/307.0 KB 9.6 MB/s eta 0:00:00\n",
      "Requirement already satisfied: scipy>=1.3.2 in c:\\users\\research_laptop\\appdata\\local\\packages\\pythonsoftwarefoundation.python.3.9_qbz5n2kfra8p0\\localcache\\local-packages\\python39\\site-packages (from scikit-learn->sklearn) (1.9.1)\n",
      "Using legacy 'setup.py install' for sklearn, since package 'wheel' is not installed.\n",
      "Installing collected packages: threadpoolctl, joblib, scikit-learn, sklearn\n",
      "  Running setup.py install for sklearn: started\n",
      "  Running setup.py install for sklearn: finished with status 'done'\n",
      "Successfully installed joblib-1.1.0 scikit-learn-1.1.2 sklearn-0.0 threadpoolctl-3.1.0\n"
     ]
    },
    {
     "name": "stderr",
     "output_type": "stream",
     "text": [
      "WARNING: You are using pip version 22.0.4; however, version 22.2.2 is available.\n",
      "You should consider upgrading via the 'C:\\Users\\research_laptop\\AppData\\Local\\Microsoft\\WindowsApps\\PythonSoftwareFoundation.Python.3.9_qbz5n2kfra8p0\\python.exe -m pip install --upgrade pip' command.\n"
     ]
    }
   ],
   "source": [
    "# install needed libraries\n",
    "import sys\n",
    "#!{sys.executable} -m pip install seaborn\n",
    "#!{sys.execuatble} -m pip install pandas\n",
    "#!{sys.execuatble} -m pip install numpy\n",
    "#!{sys.executable} -m pip install sklearn"
   ]
  },
  {
   "cell_type": "code",
   "execution_count": 64,
   "metadata": {},
   "outputs": [
    {
     "name": "stdout",
     "output_type": "stream",
     "text": [
      "total observations in dataset: 408880\n",
      "total features in dataset:  87\n"
     ]
    }
   ],
   "source": [
    "import pandas as pd\n",
    "df = pd.read_csv('..\\\\dataset\\\\all.csv')\n",
    "print('total observations in dataset:', len(df))\n",
    "print('total features in dataset: ', len(df.keys()))\n",
    "\n"
   ]
  },
  {
   "cell_type": "markdown",
   "metadata": {},
   "source": [
    "## remove duplicates"
   ]
  },
  {
   "cell_type": "code",
   "execution_count": 65,
   "metadata": {},
   "outputs": [
    {
     "name": "stdout",
     "output_type": "stream",
     "text": [
      "total unique observations in dataset:  204281\n",
      "data types used:  sha1                             object\n",
      "fpath                            object\n",
      "vt_harmless                     float64\n",
      "vt_undetected                   float64\n",
      "vt_malicious                    float64\n",
      "                                 ...   \n",
      "doc_keyword_try_word_count        int64\n",
      "doc_keyword_until_word_count      int64\n",
      "doc_keyword_using_word_count      int64\n",
      "doc_keyword_var_word_count        int64\n",
      "doc_keyword_while_word_count      int64\n",
      "Length: 87, dtype: object\n",
      "<class 'pandas.core.frame.DataFrame'>\n",
      "Int64Index: 204281 entries, 0 to 408879\n",
      "Data columns (total 87 columns):\n",
      " #   Column                               Non-Null Count   Dtype  \n",
      "---  ------                               --------------   -----  \n",
      " 0   sha1                                 204281 non-null  object \n",
      " 1   fpath                                204281 non-null  object \n",
      " 2   vt_harmless                          0 non-null       float64\n",
      " 3   vt_undetected                        0 non-null       float64\n",
      " 4   vt_malicious                         0 non-null       float64\n",
      " 5   vt_suspicious                        0 non-null       float64\n",
      " 6   avclass_name                         0 non-null       float64\n",
      " 7   is_obf                               0 non-null       float64\n",
      " 8   obf_name                             0 non-null       float64\n",
      " 9   char_hash_count                      204281 non-null  int64  \n",
      " 10  char_paren_count                     204281 non-null  int64  \n",
      " 11  char_brack_count                     204281 non-null  int64  \n",
      " 12  char_brace_count                     204281 non-null  int64  \n",
      " 13  char_bkslash_count                   204281 non-null  int64  \n",
      " 14  char_fwslash_count                   204281 non-null  int64  \n",
      " 15  char_dollar_count                    204281 non-null  int64  \n",
      " 16  char_squote_count                    204281 non-null  int64  \n",
      " 17  char_dquote_count                    204281 non-null  int64  \n",
      " 18  char_bktick_count                    204281 non-null  int64  \n",
      " 19  char_colon_count                     204281 non-null  int64  \n",
      " 20  char_scolon_count                    204281 non-null  int64  \n",
      " 21  char_star_count                      204281 non-null  int64  \n",
      " 22  char_minus_count                     204281 non-null  int64  \n",
      " 23  char_plus_count                      204281 non-null  int64  \n",
      " 24  char_percent_count                   204281 non-null  int64  \n",
      " 25  char_carrot_count                    204281 non-null  int64  \n",
      " 26  char_comma_count                     204281 non-null  int64  \n",
      " 27  char_period_count                    204281 non-null  int64  \n",
      " 28  char_glthan_count                    204281 non-null  int64  \n",
      " 29  char_num_count                       204281 non-null  int64  \n",
      " 30  char_ucase_count                     204281 non-null  int64  \n",
      " 31  char_lcase_count                     204281 non-null  int64  \n",
      " 32  char_eq_count                        204281 non-null  int64  \n",
      " 33  char_space_count                     204281 non-null  int64  \n",
      " 34  char_pipe_count                      204281 non-null  int64  \n",
      " 35  char_uscore_count                    204281 non-null  int64  \n",
      " 36  char_amp_count                       204281 non-null  int64  \n",
      " 37  char_excl_count                      204281 non-null  int64  \n",
      " 38  doc_char_count                       204281 non-null  int64  \n",
      " 39  doc_avg_line_len                     204281 non-null  float64\n",
      " 40  doc_min_line_len                     204281 non-null  int64  \n",
      " 41  doc_max_line_len                     204281 non-null  int64  \n",
      " 42  doc_line_count                       204281 non-null  int64  \n",
      " 43  doc_mcomment_count                   204281 non-null  int64  \n",
      " 44  doc_entropy                          204281 non-null  float64\n",
      " 45  doc_dtype_bool_word_count            204281 non-null  int64  \n",
      " 46  doc_dtype_char_word_count            204281 non-null  int64  \n",
      " 47  doc_dtype_int_word_count             204281 non-null  int64  \n",
      " 48  doc_dtype_long_word_count            204281 non-null  int64  \n",
      " 49  doc_dtype_float_word_count           204281 non-null  int64  \n",
      " 50  doc_dtype_single_word_count          204281 non-null  int64  \n",
      " 51  doc_dtype_double_word_count          204281 non-null  int64  \n",
      " 52  doc_dtype_decimal_word_count         204281 non-null  int64  \n",
      " 53  doc_keyword_begin_word_count         204281 non-null  int64  \n",
      " 54  doc_keyword_break_word_count         204281 non-null  int64  \n",
      " 55  doc_keyword_catch_word_count         204281 non-null  int64  \n",
      " 56  doc_keyword_class_word_count         204281 non-null  int64  \n",
      " 57  doc_keyword_continue_word_count      204281 non-null  int64  \n",
      " 58  doc_keyword_data_word_count          204281 non-null  int64  \n",
      " 59  doc_keyword_define_word_count        204281 non-null  int64  \n",
      " 60  doc_keyword_do_word_count            204281 non-null  int64  \n",
      " 61  doc_keyword_dynamicparam_word_count  204281 non-null  int64  \n",
      " 62  doc_keyword_else_word_count          204281 non-null  int64  \n",
      " 63  doc_keyword_elseif_word_count        204281 non-null  int64  \n",
      " 64  doc_keyword_end_word_count           204281 non-null  int64  \n",
      " 65  doc_keyword_enum_word_count          204281 non-null  int64  \n",
      " 66  doc_keyword_exit_word_count          204281 non-null  int64  \n",
      " 67  doc_keyword_filter_word_count        204281 non-null  int64  \n",
      " 68  doc_keyword_finally_word_count       204281 non-null  int64  \n",
      " 69  doc_keyword_foreach_word_count       204281 non-null  int64  \n",
      " 70  doc_keyword_from_word_count          204281 non-null  int64  \n",
      " 71  doc_keyword_function_word_count      204281 non-null  int64  \n",
      " 72  doc_keyword_hidden_word_count        204281 non-null  int64  \n",
      " 73  doc_keyword_if_word_count            204281 non-null  int64  \n",
      " 74  doc_keyword_in_word_count            204281 non-null  int64  \n",
      " 75  doc_keyword_param_word_count         204281 non-null  int64  \n",
      " 76  doc_keyword_process_word_count       204281 non-null  int64  \n",
      " 77  doc_keyword_return_word_count        204281 non-null  int64  \n",
      " 78  doc_keyword_static_word_count        204281 non-null  int64  \n",
      " 79  doc_keyword_switch_word_count        204281 non-null  int64  \n",
      " 80  doc_keyword_throw_word_count         204281 non-null  int64  \n",
      " 81  doc_keyword_trap_word_count          204281 non-null  int64  \n",
      " 82  doc_keyword_try_word_count           204281 non-null  int64  \n",
      " 83  doc_keyword_until_word_count         204281 non-null  int64  \n",
      " 84  doc_keyword_using_word_count         204281 non-null  int64  \n",
      " 85  doc_keyword_var_word_count           204281 non-null  int64  \n",
      " 86  doc_keyword_while_word_count         204281 non-null  int64  \n",
      "dtypes: float64(9), int64(76), object(2)\n",
      "memory usage: 137.2+ MB\n",
      "None\n"
     ]
    }
   ],
   "source": [
    "df.drop_duplicates('sha1', inplace=True)\n",
    "print('total unique observations in dataset: ', len(df))\n",
    "print('data types used: ', df.dtypes)\n",
    "print(df.info())"
   ]
  },
  {
   "cell_type": "code",
   "execution_count": 7,
   "metadata": {},
   "outputs": [
    {
     "name": "stdout",
     "output_type": "stream",
     "text": [
      "Collecting seaborn\n",
      "  Downloading seaborn-0.11.2-py3-none-any.whl (292 kB)\n",
      "     -------------------------------------- 292.8/292.8 KB 3.0 MB/s eta 0:00:00\n",
      "Requirement already satisfied: matplotlib>=2.2 in c:\\users\\research_laptop\\appdata\\local\\packages\\pythonsoftwarefoundation.python.3.9_qbz5n2kfra8p0\\localcache\\local-packages\\python39\\site-packages (from seaborn) (3.5.3)\n",
      "Requirement already satisfied: numpy>=1.15 in c:\\users\\research_laptop\\appdata\\local\\packages\\pythonsoftwarefoundation.python.3.9_qbz5n2kfra8p0\\localcache\\local-packages\\python39\\site-packages (from seaborn) (1.23.1)\n",
      "Requirement already satisfied: pandas>=0.23 in c:\\users\\research_laptop\\appdata\\local\\packages\\pythonsoftwarefoundation.python.3.9_qbz5n2kfra8p0\\localcache\\local-packages\\python39\\site-packages (from seaborn) (1.4.3)\n",
      "Collecting scipy>=1.0\n",
      "  Downloading scipy-1.9.1-cp39-cp39-win_amd64.whl (38.6 MB)\n",
      "     --------------------------------------- 38.6/38.6 MB 14.9 MB/s eta 0:00:00\n",
      "Requirement already satisfied: pillow>=6.2.0 in c:\\users\\research_laptop\\appdata\\local\\packages\\pythonsoftwarefoundation.python.3.9_qbz5n2kfra8p0\\localcache\\local-packages\\python39\\site-packages (from matplotlib>=2.2->seaborn) (9.2.0)\n",
      "Requirement already satisfied: fonttools>=4.22.0 in c:\\users\\research_laptop\\appdata\\local\\packages\\pythonsoftwarefoundation.python.3.9_qbz5n2kfra8p0\\localcache\\local-packages\\python39\\site-packages (from matplotlib>=2.2->seaborn) (4.34.4)\n",
      "Requirement already satisfied: pyparsing>=2.2.1 in c:\\users\\research_laptop\\appdata\\local\\packages\\pythonsoftwarefoundation.python.3.9_qbz5n2kfra8p0\\localcache\\local-packages\\python39\\site-packages (from matplotlib>=2.2->seaborn) (3.0.9)\n",
      "Requirement already satisfied: kiwisolver>=1.0.1 in c:\\users\\research_laptop\\appdata\\local\\packages\\pythonsoftwarefoundation.python.3.9_qbz5n2kfra8p0\\localcache\\local-packages\\python39\\site-packages (from matplotlib>=2.2->seaborn) (1.4.4)\n",
      "Requirement already satisfied: packaging>=20.0 in c:\\users\\research_laptop\\appdata\\local\\packages\\pythonsoftwarefoundation.python.3.9_qbz5n2kfra8p0\\localcache\\local-packages\\python39\\site-packages (from matplotlib>=2.2->seaborn) (21.3)\n",
      "Requirement already satisfied: cycler>=0.10 in c:\\users\\research_laptop\\appdata\\local\\packages\\pythonsoftwarefoundation.python.3.9_qbz5n2kfra8p0\\localcache\\local-packages\\python39\\site-packages (from matplotlib>=2.2->seaborn) (0.11.0)\n",
      "Requirement already satisfied: python-dateutil>=2.7 in c:\\users\\research_laptop\\appdata\\local\\packages\\pythonsoftwarefoundation.python.3.9_qbz5n2kfra8p0\\localcache\\local-packages\\python39\\site-packages (from matplotlib>=2.2->seaborn) (2.8.2)\n",
      "Requirement already satisfied: pytz>=2020.1 in c:\\users\\research_laptop\\appdata\\local\\packages\\pythonsoftwarefoundation.python.3.9_qbz5n2kfra8p0\\localcache\\local-packages\\python39\\site-packages (from pandas>=0.23->seaborn) (2022.2.1)\n",
      "Requirement already satisfied: six>=1.5 in c:\\users\\research_laptop\\appdata\\local\\packages\\pythonsoftwarefoundation.python.3.9_qbz5n2kfra8p0\\localcache\\local-packages\\python39\\site-packages (from python-dateutil>=2.7->matplotlib>=2.2->seaborn) (1.16.0)\n",
      "Installing collected packages: scipy, seaborn\n",
      "Successfully installed scipy-1.9.1 seaborn-0.11.2\n"
     ]
    },
    {
     "name": "stderr",
     "output_type": "stream",
     "text": [
      "WARNING: You are using pip version 22.0.4; however, version 22.2.2 is available.\n",
      "You should consider upgrading via the 'C:\\Users\\research_laptop\\AppData\\Local\\Microsoft\\WindowsApps\\PythonSoftwareFoundation.Python.3.9_qbz5n2kfra8p0\\python.exe -m pip install --upgrade pip' command.\n"
     ]
    }
   ],
   "source": [
    "# use seaborn for cluster heatmap...\n",
    "#import sys\n",
    "#!{sys.executable} -m pip install seaborn"
   ]
  },
  {
   "cell_type": "code",
   "execution_count": 66,
   "metadata": {},
   "outputs": [],
   "source": [
    "# remove unnecessary features\n",
    "subset = df[df.columns[9:]]"
   ]
  },
  {
   "cell_type": "code",
   "execution_count": 67,
   "metadata": {},
   "outputs": [
    {
     "data": {
      "text/plain": [
       "Index(['char_hash_count', 'char_paren_count', 'char_brack_count',\n",
       "       'char_brace_count', 'char_bkslash_count', 'char_fwslash_count',\n",
       "       'char_dollar_count', 'char_squote_count', 'char_dquote_count',\n",
       "       'char_bktick_count', 'char_colon_count', 'char_scolon_count',\n",
       "       'char_star_count', 'char_minus_count', 'char_plus_count',\n",
       "       'char_percent_count', 'char_carrot_count', 'char_comma_count',\n",
       "       'char_period_count', 'char_glthan_count', 'char_num_count',\n",
       "       'char_ucase_count', 'char_lcase_count', 'char_eq_count',\n",
       "       'char_space_count', 'char_pipe_count', 'char_uscore_count',\n",
       "       'char_amp_count', 'char_excl_count', 'doc_char_count',\n",
       "       'doc_avg_line_len', 'doc_min_line_len', 'doc_max_line_len',\n",
       "       'doc_line_count', 'doc_mcomment_count', 'doc_entropy',\n",
       "       'doc_dtype_bool_word_count', 'doc_dtype_char_word_count',\n",
       "       'doc_dtype_int_word_count', 'doc_dtype_long_word_count',\n",
       "       'doc_dtype_float_word_count', 'doc_dtype_single_word_count',\n",
       "       'doc_dtype_double_word_count', 'doc_dtype_decimal_word_count',\n",
       "       'doc_keyword_begin_word_count', 'doc_keyword_break_word_count',\n",
       "       'doc_keyword_catch_word_count', 'doc_keyword_class_word_count',\n",
       "       'doc_keyword_continue_word_count', 'doc_keyword_data_word_count',\n",
       "       'doc_keyword_define_word_count', 'doc_keyword_do_word_count',\n",
       "       'doc_keyword_dynamicparam_word_count', 'doc_keyword_else_word_count',\n",
       "       'doc_keyword_elseif_word_count', 'doc_keyword_end_word_count',\n",
       "       'doc_keyword_enum_word_count', 'doc_keyword_exit_word_count',\n",
       "       'doc_keyword_filter_word_count', 'doc_keyword_finally_word_count',\n",
       "       'doc_keyword_foreach_word_count', 'doc_keyword_from_word_count',\n",
       "       'doc_keyword_function_word_count', 'doc_keyword_hidden_word_count',\n",
       "       'doc_keyword_if_word_count', 'doc_keyword_in_word_count',\n",
       "       'doc_keyword_param_word_count', 'doc_keyword_process_word_count',\n",
       "       'doc_keyword_return_word_count', 'doc_keyword_static_word_count',\n",
       "       'doc_keyword_switch_word_count', 'doc_keyword_throw_word_count',\n",
       "       'doc_keyword_trap_word_count', 'doc_keyword_try_word_count',\n",
       "       'doc_keyword_until_word_count', 'doc_keyword_using_word_count',\n",
       "       'doc_keyword_var_word_count', 'doc_keyword_while_word_count'],\n",
       "      dtype='object')"
      ]
     },
     "execution_count": 67,
     "metadata": {},
     "output_type": "execute_result"
    }
   ],
   "source": [
    "subset.keys()\n",
    "#subset[subset.columns[:10]]"
   ]
  },
  {
   "cell_type": "code",
   "execution_count": 18,
   "metadata": {},
   "outputs": [],
   "source": [
    "import seaborn as sns\n",
    "from sklearn.decomposition import PCA\n",
    "from sklearn.preprocessing import StandardScaler\n",
    "# times out... maybe use less features...\n",
    "#sns.clustermap(subset) \n",
    "samples = subset.sample(n=10000)\n",
    "samples.head()\n",
    "scaled_samples = samples.copy()\n",
    "scaler = StandardScaler()\n",
    "scaled_samples=pd.DataFrame(scaler.fit_transform(scaled_samples), columns=scaled_samples.columns)\n",
    "scaled_samples.head()\n",
    "\n",
    "scaled_data = subset.copy()\n",
    "scaled_data=pd.DataFrame(scaler.fit_transform(scaled_data), columns=scaled_data.columns)\n",
    "#sns.set()\n",
    "#sns.pairplot(samples[samples.columns[:5]], height=2)\n"
   ]
  },
  {
   "cell_type": "code",
   "execution_count": 34,
   "metadata": {},
   "outputs": [
    {
     "data": {
      "image/png": "[encoded data removed]",
      "text/plain": [
       "<Figure size 432x288 with 1 Axes>"
      ]
     },
     "metadata": {
      "needs_background": "light"
     },
     "output_type": "display_data"
    }
   ],
   "source": [
    "import matplotlib.pyplot as plt\n",
    "import numpy as np\n",
    "#pca on scaled data\n",
    "scaled_samples.head()\n",
    "pca = PCA(n_components=len(scaled_data.columns))\n",
    "pca_fit = pca.fit(scaled_data)\n",
    "PC_values = np.arange(pca.n_components_) + 1\n",
    "plt.plot(PC_values, pca.explained_variance_ratio_, 'o-', linewidth=2, color='blue')\n",
    "plt.title('Scree Plot')\n",
    "plt.xlabel('Principal Component')\n",
    "plt.ylabel('Variance Explained')\n",
    "plt.show()"
   ]
  },
  {
   "cell_type": "code",
   "execution_count": 42,
   "metadata": {},
   "outputs": [
    {
     "name": "stdout",
     "output_type": "stream",
     "text": [
      "[1.44942175e-01 7.07661376e-02 5.23099361e-02 4.80477489e-02\n",
      " 3.69621753e-02 3.49499666e-02 3.08040614e-02 2.74598967e-02\n",
      " 2.61295656e-02 2.48362225e-02 2.27511950e-02 1.94646980e-02\n",
      " 1.81668625e-02 1.60728236e-02 1.54122543e-02 1.40518982e-02\n",
      " 1.39323289e-02 1.36429969e-02 1.32446445e-02 1.29921237e-02\n",
      " 1.28587334e-02 1.27797871e-02 1.27395954e-02 1.26932691e-02\n",
      " 1.26348990e-02 1.24656896e-02 1.23942216e-02 1.21734468e-02\n",
      " 1.19462308e-02 1.16056160e-02 1.13311738e-02 1.10326962e-02\n",
      " 1.06387132e-02 1.02854317e-02 1.01444242e-02 9.78842838e-03\n",
      " 9.37578016e-03 9.26350444e-03 8.88582091e-03 8.81969368e-03\n",
      " 8.30365999e-03 7.58075523e-03 7.33517275e-03 6.73474778e-03\n",
      " 6.44843696e-03 6.02879699e-03 5.87036848e-03 5.77971443e-03\n",
      " 5.15827240e-03 5.05469659e-03 4.81358442e-03 4.54843130e-03\n",
      " 4.19143334e-03 4.07635246e-03 3.92369662e-03 3.49399317e-03\n",
      " 3.35198667e-03 3.13628249e-03 3.00592632e-03 2.60356535e-03\n",
      " 2.43953630e-03 2.33292632e-03 2.15755712e-03 1.71030190e-03\n",
      " 1.58024723e-03 1.45467344e-03 1.35179776e-03 1.26520313e-03\n",
      " 9.71654661e-04 9.02389390e-04 8.00412564e-04 2.88515624e-04\n",
      " 1.51414721e-04 1.09924443e-04 8.89955303e-05 8.48412865e-05\n",
      " 6.32872834e-05 9.58037915e-06]\n",
      "0.9822367409223081\n"
     ]
    }
   ],
   "source": [
    "#using scaled data we only get to 98% explained variance with 60+ features remaining...\n",
    "print(pca.explained_variance_ratio_)\n",
    "print(sum(pca.explained_variance_ratio_[:60]))"
   ]
  },
  {
   "cell_type": "code",
   "execution_count": 43,
   "metadata": {},
   "outputs": [
    {
     "data": {
      "image/png": "[encoded data removed]",
      "text/plain": [
       "<Figure size 432x288 with 1 Axes>"
      ]
     },
     "metadata": {
      "needs_background": "light"
     },
     "output_type": "display_data"
    }
   ],
   "source": [
    "#unscaled data\n",
    "pca = PCA(n_components=len(subset.columns))\n",
    "pca_fit = pca.fit(subset)\n",
    "PC_values = np.arange(pca.n_components_) + 1\n",
    "plt.plot(PC_values, pca.explained_variance_ratio_, 'o-', linewidth=2, color='blue')\n",
    "plt.title('Scree Plot')\n",
    "plt.xlabel('Principal Component')\n",
    "plt.ylabel('Variance Explained')\n",
    "plt.show()"
   ]
  },
  {
   "cell_type": "code",
   "execution_count": 44,
   "metadata": {},
   "outputs": [
    {
     "name": "stdout",
     "output_type": "stream",
     "text": [
      "[8.26197552e-01 1.08809052e-01 4.20911759e-02 6.52514713e-03\n",
      " 5.91450405e-03 3.88826200e-03 2.00075747e-03 1.10128536e-03\n",
      " 8.67193729e-04 7.18740016e-04 4.90270606e-04 4.20889456e-04\n",
      " 3.24479778e-04 2.28457617e-04 1.58675827e-04 1.14429282e-04\n",
      " 4.98723228e-05 2.60873217e-05 1.45375042e-05 1.24781409e-05\n",
      " 9.53926292e-06 8.80642587e-06 7.87049316e-06 5.08964883e-06\n",
      " 3.54126884e-06 3.05820643e-06 2.54700055e-06 2.39218291e-06\n",
      " 1.43800262e-06 8.47535268e-07 6.01054369e-07 2.35251545e-07\n",
      " 8.90532505e-08 2.67623556e-08 1.66674214e-08 1.15996273e-08\n",
      " 9.24226740e-09 7.70392679e-09 6.23242299e-09 3.86830659e-09\n",
      " 2.58478506e-09 2.37351266e-09 1.79395161e-09 1.59936789e-09\n",
      " 1.45135014e-09 8.21800068e-10 6.58589463e-10 4.78024779e-10\n",
      " 3.74581199e-10 3.71126948e-10 3.57301973e-10 3.34755212e-10\n",
      " 3.22386565e-10 2.11754864e-10 1.50484554e-10 1.34572316e-10\n",
      " 1.01158799e-10 9.22033819e-11 7.72676848e-11 6.03075705e-11\n",
      " 5.42529858e-11 4.50486470e-11 3.67761818e-11 3.45549965e-11\n",
      " 3.10786417e-11 1.68642527e-11 1.32817608e-11 1.20021115e-11\n",
      " 1.13705856e-11 9.97777868e-12 8.68386414e-12 5.23164528e-12\n",
      " 5.19543198e-12 2.86011372e-12 1.90749526e-12 1.12695507e-12\n",
      " 4.93831241e-13 3.41135048e-13]\n",
      "0.9836229274084072\n"
     ]
    }
   ],
   "source": [
    "# with unscaled data we get to 98% explained variance with 4 components\n",
    "print(pca.explained_variance_ratio_)\n",
    "print(sum(pca.explained_variance_ratio_[:4]))"
   ]
  },
  {
   "cell_type": "code",
   "execution_count": 45,
   "metadata": {},
   "outputs": [
    {
     "data": {
      "image/png": "[encoded data removed]",
      "text/plain": [
       "<Figure size 432x288 with 1 Axes>"
      ]
     },
     "metadata": {
      "needs_background": "light"
     },
     "output_type": "display_data"
    }
   ],
   "source": [
    "# pca for top 4 components\n",
    "pca = PCA(n_components=4)\n",
    "pca_fit = pca.fit(subset)\n",
    "PC_values = np.arange(pca.n_components_) + 1\n",
    "plt.plot(PC_values, pca.explained_variance_ratio_, 'o-', linewidth=2, color='blue')\n",
    "plt.title('Scree Plot')\n",
    "plt.xlabel('Principal Component')\n",
    "plt.ylabel('Variance Explained')\n",
    "plt.show()"
   ]
  },
  {
   "cell_type": "code",
   "execution_count": 56,
   "metadata": {},
   "outputs": [
    {
     "data": {
      "image/png": "[encoded data removed]",
      "text/plain": [
       "<Figure size 432x288 with 2 Axes>"
      ]
     },
     "metadata": {
      "needs_background": "light"
     },
     "output_type": "display_data"
    }
   ],
   "source": [
    "loadings = pca_fit.components_\n",
    "num_pc = pca_fit.n_features_\n",
    "pc_list = [\"PC\"+str(i) for i in list(range(1, num_pc+1))]\n",
    "loadings_df = pd.DataFrame.from_dict(dict(zip(pc_list, loadings)))\n",
    "loadings_df['variable'] = samples.columns.values\n",
    "loadings_df = loadings_df.set_index('variable')\n",
    "loadings_df\n",
    "\n",
    "ax = sns.heatmap(loadings_df, annot=False, cmap='Spectral')\n",
    "plt.show()\n",
    "\n"
   ]
  },
  {
   "cell_type": "code",
   "execution_count": 62,
   "metadata": {},
   "outputs": [
    {
     "data": {
      "text/html": [
       "<div>\n",
       "<style scoped>\n",
       "    .dataframe tbody tr th:only-of-type {\n",
       "        vertical-align: middle;\n",
       "    }\n",
       "\n",
       "    .dataframe tbody tr th {\n",
       "        vertical-align: top;\n",
       "    }\n",
       "\n",
       "    .dataframe thead th {\n",
       "        text-align: right;\n",
       "    }\n",
       "</style>\n",
       "<table border=\"1\" class=\"dataframe\">\n",
       "  <thead>\n",
       "    <tr style=\"text-align: right;\">\n",
       "      <th></th>\n",
       "      <th>PC1</th>\n",
       "      <th>PC2</th>\n",
       "      <th>PC3</th>\n",
       "      <th>PC4</th>\n",
       "    </tr>\n",
       "    <tr>\n",
       "      <th>variable</th>\n",
       "      <th></th>\n",
       "      <th></th>\n",
       "      <th></th>\n",
       "      <th></th>\n",
       "    </tr>\n",
       "  </thead>\n",
       "  <tbody>\n",
       "    <tr>\n",
       "      <th>char_hash_count</th>\n",
       "      <td>4.549902e-03</td>\n",
       "      <td>-2.293205e-02</td>\n",
       "      <td>0.023791</td>\n",
       "      <td>0.068502</td>\n",
       "    </tr>\n",
       "    <tr>\n",
       "      <th>char_paren_count</th>\n",
       "      <td>1.381114e-03</td>\n",
       "      <td>2.004184e-04</td>\n",
       "      <td>0.004477</td>\n",
       "      <td>0.005098</td>\n",
       "    </tr>\n",
       "    <tr>\n",
       "      <th>char_brack_count</th>\n",
       "      <td>7.212248e-03</td>\n",
       "      <td>-3.113134e-02</td>\n",
       "      <td>0.036600</td>\n",
       "      <td>0.101448</td>\n",
       "    </tr>\n",
       "    <tr>\n",
       "      <th>char_brace_count</th>\n",
       "      <td>1.303360e-02</td>\n",
       "      <td>-3.670191e-02</td>\n",
       "      <td>0.068849</td>\n",
       "      <td>0.098584</td>\n",
       "    </tr>\n",
       "    <tr>\n",
       "      <th>char_bkslash_count</th>\n",
       "      <td>7.915542e-04</td>\n",
       "      <td>1.867546e-03</td>\n",
       "      <td>0.003270</td>\n",
       "      <td>-0.002619</td>\n",
       "    </tr>\n",
       "    <tr>\n",
       "      <th>...</th>\n",
       "      <td>...</td>\n",
       "      <td>...</td>\n",
       "      <td>...</td>\n",
       "      <td>...</td>\n",
       "    </tr>\n",
       "    <tr>\n",
       "      <th>doc_keyword_try_word_count</th>\n",
       "      <td>6.195281e-06</td>\n",
       "      <td>1.400544e-05</td>\n",
       "      <td>0.000030</td>\n",
       "      <td>-0.000034</td>\n",
       "    </tr>\n",
       "    <tr>\n",
       "      <th>doc_keyword_until_word_count</th>\n",
       "      <td>2.701264e-07</td>\n",
       "      <td>5.792214e-07</td>\n",
       "      <td>0.000001</td>\n",
       "      <td>-0.000003</td>\n",
       "    </tr>\n",
       "    <tr>\n",
       "      <th>doc_keyword_using_word_count</th>\n",
       "      <td>2.410577e-06</td>\n",
       "      <td>5.372019e-06</td>\n",
       "      <td>0.000010</td>\n",
       "      <td>-0.000016</td>\n",
       "    </tr>\n",
       "    <tr>\n",
       "      <th>doc_keyword_var_word_count</th>\n",
       "      <td>1.679018e-06</td>\n",
       "      <td>3.056242e-06</td>\n",
       "      <td>0.000006</td>\n",
       "      <td>-0.000013</td>\n",
       "    </tr>\n",
       "    <tr>\n",
       "      <th>doc_keyword_while_word_count</th>\n",
       "      <td>1.132206e-06</td>\n",
       "      <td>1.373290e-06</td>\n",
       "      <td>0.000001</td>\n",
       "      <td>-0.000004</td>\n",
       "    </tr>\n",
       "  </tbody>\n",
       "</table>\n",
       "<p>78 rows × 4 columns</p>\n",
       "</div>"
      ],
      "text/plain": [
       "                                       PC1           PC2       PC3       PC4\n",
       "variable                                                                    \n",
       "char_hash_count               4.549902e-03 -2.293205e-02  0.023791  0.068502\n",
       "char_paren_count              1.381114e-03  2.004184e-04  0.004477  0.005098\n",
       "char_brack_count              7.212248e-03 -3.113134e-02  0.036600  0.101448\n",
       "char_brace_count              1.303360e-02 -3.670191e-02  0.068849  0.098584\n",
       "char_bkslash_count            7.915542e-04  1.867546e-03  0.003270 -0.002619\n",
       "...                                    ...           ...       ...       ...\n",
       "doc_keyword_try_word_count    6.195281e-06  1.400544e-05  0.000030 -0.000034\n",
       "doc_keyword_until_word_count  2.701264e-07  5.792214e-07  0.000001 -0.000003\n",
       "doc_keyword_using_word_count  2.410577e-06  5.372019e-06  0.000010 -0.000016\n",
       "doc_keyword_var_word_count    1.679018e-06  3.056242e-06  0.000006 -0.000013\n",
       "doc_keyword_while_word_count  1.132206e-06  1.373290e-06  0.000001 -0.000004\n",
       "\n",
       "[78 rows x 4 columns]"
      ]
     },
     "execution_count": 62,
     "metadata": {},
     "output_type": "execute_result"
    }
   ],
   "source": [
    "loadings_df"
   ]
  }
 ],
 "metadata": {
  "kernelspec": {
   "display_name": "Python 3.9.13 64-bit (windows store)",
   "language": "python",
   "name": "python3"
  },
  "language_info": {
   "codemirror_mode": {
    "name": "ipython",
    "version": 3
   },
   "file_extension": ".py",
   "mimetype": "text/x-python",
   "name": "python",
   "nbconvert_exporter": "python",
   "pygments_lexer": "ipython3",
   "version": "3.9.13"
  },
  "orig_nbformat": 4,
  "vscode": {
   "interpreter": {
    "hash": "2cd5a885649300fac346bfc045886ced9b1b369e25d561646fb2c4440b5a45a0"
   }
  }
 },
 "nbformat": 4,
 "nbformat_minor": 2
}
